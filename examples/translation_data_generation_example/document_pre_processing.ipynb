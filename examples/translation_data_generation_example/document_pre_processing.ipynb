{
 "cells": [
  {
   "cell_type": "markdown",
   "metadata": {},
   "source": [
    "# Preparing Document for Data generation\n",
    "- This notebook will show you how to do document parsing\n",
    "- Document Chunking\n",
    "- And finally mixing it with user QNA to  create seed examples"
   ]
  },
  {
   "cell_type": "markdown",
   "metadata": {},
   "source": [
    "### Install SDG\n",
    "\n",
    "```bash \n",
    "pip install sdg-hub==0.1.0a2\n",
    "pip install rich datasets tabulate transformers\n",
    "```"
   ]
  },
  {
   "cell_type": "markdown",
   "metadata": {},
   "source": [
    "### Create Seed Examples"
   ]
  },
  {
   "cell_type": "code",
   "execution_count": null,
   "metadata": {},
   "outputs": [],
   "source": [
    "from sdg_hub.utils.chunking import chunk_document\n",
    "import yaml\n",
    "from glob import glob\n",
    "from datasets import Dataset\n",
    "\n",
    "# output directory\n",
    "output_dir = f\"sdg_demo_output/\"\n",
    "# This is where your PDFs are stored\n",
    "data_dir = 'wikipedia/' \n",
    "\n",
    "# Let us load the QNA yaml file\n",
    "with open(f'{data_dir}/qna.yaml', 'r') as f:\n",
    "    qna = yaml.safe_load(f)\n",
    "\n",
    "chunk_size = 5000\n",
    "max_model_context_length = 8000 \n",
    "all_ds = []\n",
    "list_md_files = glob(f\"{data_dir}/*.md\")\n",
    "\n",
    "for md_file in list_md_files:\n",
    "    chunks_mds = []\n",
    "    print(f\"Readiing contents of file {md_file}\")\n",
    "    with open(md_file, \"r\", encoding=\"utf-8\") as f:\n",
    "        text = f.read()\n",
    "        chunks_mds.extend([{\n",
    "    \"document\": e,\n",
    "    \"document_outline\": qna[\"document_outline\"],\n",
    "    \"domain\": qna[\"domain\"],\n",
    "    } for e in chunk_document(text, server_ctx_size=max_model_context_length, chunk_word_count=chunk_size)])\n",
    "    all_ds.extend(chunks_mds)\n",
    "\n",
    "all_ds_with_icls = []\n",
    "for icl in qna['seed_examples']:\n",
    "    icl_dict = {}\n",
    "    icl_dict['icl_document'] = icl['context']\n",
    "    \n",
    "    icl_dict['icl_query_1'] = icl['questions_and_answers'][0]['question']\n",
    "    icl_dict['icl_response_1'] = icl['questions_and_answers'][0]['answer']\n",
    "\n",
    "    icl_dict['icl_query_2'] = icl['questions_and_answers'][1]['question']\n",
    "    icl_dict['icl_response_2'] = icl['questions_and_answers'][1]['answer']\n",
    "\n",
    "    icl_dict['icl_query_3'] = icl['questions_and_answers'][2]['question']\n",
    "    icl_dict['icl_response_3'] = icl['questions_and_answers'][2]['answer']\n",
    "\n",
    "    all_ds_with_icls.extend([{**e, **icl_dict} for e in all_ds])\n",
    "\n",
    "seed_data = Dataset.from_list(all_ds_with_icls)\n",
    "\n",
    "seed_data.to_json(f'{output_dir}/seed_data.jsonl', orient='records', lines=True)\n"
   ]
  }
 ],
 "metadata": {
  "kernelspec": {
   "display_name": "Python 3 (ipykernel)",
   "language": "python",
   "name": "python3"
  },
  "language_info": {
   "codemirror_mode": {
    "name": "ipython",
    "version": 3
   },
   "file_extension": ".py",
   "mimetype": "text/x-python",
   "name": "python",
   "nbconvert_exporter": "python",
   "pygments_lexer": "ipython3",
   "version": "3.10.12"
  }
 },
 "nbformat": 4,
 "nbformat_minor": 4
}
