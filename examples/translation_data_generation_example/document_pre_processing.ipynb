{
 "cells": [
  {
   "cell_type": "markdown",
   "metadata": {},
   "source": [
    "# Preparing Document for Data generation\n",
    "- This notebook will show you how to do document parsing\n",
    "- Document Chunking\n",
    "- And finally mixing it with user QNA to  create seed examples"
   ]
  },
  {
   "cell_type": "markdown",
   "metadata": {},
   "source": [
    "### Install SDG\n",
    "\n",
    "```bash \n",
    "pip install sdg-hub==0.1.0a2\n",
    "pip install rich datasets tabulate transformers\n",
    "```"
   ]
  },
  {
   "cell_type": "markdown",
   "metadata": {},
   "source": [
    "### Create Seed Examples"
   ]
  },
  {
   "cell_type": "code",
   "execution_count": null,
   "metadata": {},
   "outputs": [],
   "source": [
    "from sdg_hub.utils.docprocessor import DocProcessor\n",
    "\n",
    "output_dir = f\"sdg_demo_output/\"\n",
    "# This is where your PDFs are stored\n",
    "data_dir = 'wikipedia/' \n",
    "# It also have your QNA yaml file\n",
    "dp = DocProcessor(data_dir, user_config_path=f'{data_dir}/qna.yaml')\n",
    "\n",
    "### Using docling v1 json\n",
    "seed_data = dp.get_processed_dataset()\n",
    "\n",
    "### Using markdown file\n",
    "seed_data = dp.get_processed_markdown_dataset([f\"{data_dir}/document_1.md\"])\n",
    "\n",
    "# Note: For now v2 json is not supported\n",
    "\n",
    "seed_data.to_json(f'{output_dir}/seed_data.jsonl', orient='records', lines=True)"
   ]
  },
  {
   "cell_type": "code",
   "execution_count": null,
   "metadata": {},
   "outputs": [],
   "source": []
  }
 ],
 "metadata": {
  "kernelspec": {
   "display_name": "Python 3 (ipykernel)",
   "language": "python",
   "name": "python3"
  },
  "language_info": {
   "codemirror_mode": {
    "name": "ipython",
    "version": 3
   },
   "file_extension": ".py",
   "mimetype": "text/x-python",
   "name": "python",
   "nbconvert_exporter": "python",
   "pygments_lexer": "ipython3",
   "version": "3.10.12"
  }
 },
 "nbformat": 4,
 "nbformat_minor": 4
}
